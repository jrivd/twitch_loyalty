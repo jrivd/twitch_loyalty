{
  "nbformat": 4,
  "nbformat_minor": 0,
  "metadata": {
    "colab": {
      "name": "Twitch_loyalty.ipynb",
      "provenance": []
    },
    "kernelspec": {
      "name": "python3",
      "display_name": "Python 3"
    },
    "language_info": {
      "name": "python"
    }
  },
  "cells": [
    {
      "cell_type": "markdown",
      "metadata": {
        "id": "uEf-uwapRSc-"
      },
      "source": [
        "<h1><font color=\"#15E5B9 \" size=4>Text mining</font></h1>\n",
        "\n",
        "\n",
        "\n",
        "<h1><font color=\"#15E5B9 \" size=6>Generate dataset to predict \n",
        " viewers' loyalty to a Twitch streamer</font></h1>\n",
        "\n",
        "\n",
        "\n",
        "<div style=\"text-align: right\">\n",
        "<font size=3 color=\"GREY\">Author: Juan Carlos Rivera</font><br>\n",
        "\n",
        "\n",
        "---\n",
        "\n",
        "\n",
        "</div>"
      ]
    },
    {
      "cell_type": "code",
      "source": [
        "!pip install functools\n",
        "from functools import reduce\n",
        "import os\n",
        "import json\n",
        "import pandas as pd"
      ],
      "metadata": {
        "id": "l2wUI932iIJU"
      },
      "execution_count": null,
      "outputs": []
    },
    {
      "cell_type": "markdown",
      "source": [
        "**1. Read folder with Twitch strams chat's files and generate dataframes**"
      ],
      "metadata": {
        "id": "N395aCymh6xz"
      }
    },
    {
      "cell_type": "code",
      "execution_count": null,
      "metadata": {
        "id": "EdoQzAeVhj-A",
        "colab": {
          "base_uri": "https://localhost:8080/"
        },
        "outputId": "e04925e8-ef11-499c-9b6d-f8ddecb55e27"
      },
      "outputs": [
        {
          "output_type": "stream",
          "name": "stdout",
          "text": [
            "Working on file 1\n",
            "Working on file 2\n",
            "Working on file 3\n"
          ]
        }
      ],
      "source": [
        "directory = '/content/drive/My Drive/'\n",
        "i=1\n",
        "chats_log = []\n",
        "for filename in os.listdir(directory):\n",
        "    f = os.path.join(directory, filename)\n",
        "    if os.path.isfile(f):\n",
        "        data = json.load(open(f))\n",
        "        print('Working on file', i)\n",
        "        df = pd.json_normalize(data[\"comments\"])\n",
        "        users = df['commenter.display_name'].value_counts()\n",
        "        users= users.index.tolist()\n",
        "        globals()[f\"chat{i}\"] = pd.DataFrame (users, columns = ['user_name'])\n",
        "        a = 'chat' + str(i)\n",
        "        chats_log.append(globals()[f\"chat{i}\"])\n",
        "        globals()[f\"chat{i}\"][a] = 1\n",
        "        i=i+1"
      ]
    },
    {
      "cell_type": "markdown",
      "source": [
        "**2. Merge all dataframes**"
      ],
      "metadata": {
        "id": "OWDQQJbTjHuk"
      }
    },
    {
      "cell_type": "code",
      "source": [
        "merged_df = reduce(lambda  left,right: pd.merge(left,right,on=['user_name'], how='outer'), chats_log)"
      ],
      "metadata": {
        "id": "iTObd_zltGT9"
      },
      "execution_count": null,
      "outputs": []
    },
    {
      "cell_type": "code",
      "source": [
        "merged_df = merged_df.fillna(0)"
      ],
      "metadata": {
        "id": "8bmmybeYtW7X"
      },
      "execution_count": null,
      "outputs": []
    },
    {
      "cell_type": "markdown",
      "source": [
        "**3. Process data and generate dataframe with past fidelity and future fidelity (target)**"
      ],
      "metadata": {
        "id": "gud_ovfDt83h"
      }
    },
    {
      "cell_type": "code",
      "source": [
        "u_names = []\n",
        "prev_fid = []\n",
        "fut_fid = []\n",
        "for i in range (len(merged_df)):\n",
        "  #print('Row', i)\n",
        "  uname = merged_df.iloc[:, 0][i]\n",
        "  #print('Name: ', uname)\n",
        "  for j in range (len(merged_df.columns)):\n",
        "    if (j != 0):\n",
        "      field = merged_df.iloc[:, j][i]\n",
        "      if (field == 1):\n",
        "        split_uname = uname + '_' + merged_df.columns[j]\n",
        "        u_names.append (split_uname)\n",
        "        prev_fidelity = merged_df.iloc[:,1:j+1].mean(axis=1)\n",
        "        prev_fidelity = prev_fidelity[i]\n",
        "        fut_fidelity = merged_df.iloc[:,j+1:].mean(axis=1)\n",
        "        fut_fidelity = fut_fidelity[i]\n",
        "        prev_fid.append (prev_fidelity)\n",
        "        fut_fid.append (fut_fidelity)"
      ],
      "metadata": {
        "id": "eIav87astITr"
      },
      "execution_count": null,
      "outputs": []
    },
    {
      "cell_type": "code",
      "source": [
        "output = zip(u_names,prev_fid, fut_fid)\n",
        "output = pd.DataFrame(output, columns=['user_name','Previous fidelity', 'Target'])"
      ],
      "metadata": {
        "id": "6Y1zUtN1hync"
      },
      "execution_count": null,
      "outputs": []
    },
    {
      "cell_type": "code",
      "source": [
        "output"
      ],
      "metadata": {
        "id": "AvQElHN32jU6"
      },
      "execution_count": null,
      "outputs": []
    }
  ]
}